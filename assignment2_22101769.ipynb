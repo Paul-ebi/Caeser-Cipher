{
 "cells": [
  {
   "cell_type": "code",
   "execution_count": 260,
   "id": "e8bbf695",
   "metadata": {},
   "outputs": [],
   "source": [
    "import string"
   ]
  },
  {
   "cell_type": "code",
   "execution_count": 261,
   "id": "11c5306c",
   "metadata": {},
   "outputs": [],
   "source": [
    "def encrypt(text, shift, alphabet):\n",
    "    \"\"\"\n",
    "    Shifts the characters in the given text by the specified amount.\n",
    "    Only characters in the specified alphabet are shifted.\n",
    "    \"\"\"\n",
    "    result = []\n",
    "    for char in text:\n",
    "        if char in alphabet:\n",
    "            index = alphabet.index(char)\n",
    "            shifted_index = (index + shift) % len(alphabet)\n",
    "            result.append(alphabet[shifted_index])\n",
    "        else:\n",
    "            result.append(char)\n",
    "    return \"\".join(result)\n",
    "\n",
    "\n",
    "\n",
    "\n",
    "\n",
    "    \n",
    "\n"
   ]
  },
  {
   "cell_type": "code",
   "execution_count": 262,
   "id": "a3fa3971",
   "metadata": {},
   "outputs": [],
   "source": [
    "def decrypt(text, shift_count, alphabet):\n",
    "    shift_alphabet = alphabet[-shift_count:] + alphabet[:-shift_count]\n",
    "    shift_alphabet += shift_alphabet.lower()\n",
    "    \n",
    "    result = \"\"\n",
    "    \n",
    "    for char in text:\n",
    "        if char in alphabet:\n",
    "            result += shift_alphabet[alphabet.index(char)]\n",
    "        elif char in alphabet.lower():\n",
    "            result += shift_alphabet[alphabet.lower().index(char)].lower()\n",
    "        else:\n",
    "            result += char\n",
    "    \n",
    "    return result"
   ]
  },
  {
   "cell_type": "code",
   "execution_count": 263,
   "id": "41dc6ca8",
   "metadata": {},
   "outputs": [],
   "source": [
    "# Define the alphabets\n",
    "alphabets = [\n",
    "    \"ABCDEFGHIJKLMNOPQRSTUVWXYZ\",\n",
    "    \"ABCDEFGHIJKLMNOPQRSTUVWXYZÉÀÈÙÂÊÎÔÛËÏÜÇ\",\n",
    "    \"ABCDEFGHIJKLMNOPQRSTUVWXYZÑÁÉÍÓÚÜ\",\n",
    "    \"ABCDEFGHIJKLMNOPQRSTUVWXYZÇĞİıÖŞÜ\",\n",
    "]\n"
   ]
  },
  {
   "cell_type": "code",
   "execution_count": 264,
   "id": "1307fe76",
   "metadata": {},
   "outputs": [],
   "source": [
    "# Read in the input file\n",
    "with open(\"input.txt\", \"r\") as f:\n",
    "    lines = f.readlines()\n",
    "\n",
    "# Process each line in the file\n",
    "for line in lines:\n",
    "    # Split the line into its four fields\n",
    "    shift, action, alphabet, text = line.strip().split(\":\")\n",
    "    \n",
    "    # Get the appropriate alphabet based on the input file\n",
    "    shift_alph = alphabets[int(alphabet)]\n",
    "\n",
    "    # Convert the shift amount to an integer\n",
    "    shift_amt = int(shift)\n",
    "\n",
    "    # Convert the action to an integer\n",
    "    action = int(action)"
   ]
  },
  {
   "cell_type": "code",
   "execution_count": 265,
   "id": "6caa995c",
   "metadata": {},
   "outputs": [
    {
     "name": "stdout",
     "output_type": "stream",
     "text": [
      "Plaintext: CYPRUS INTERNATIONAL UNIVERSITY\n"
     ]
    }
   ],
   "source": [
    "# Perform the encryption or decryption\n",
    "if action == 0:\n",
    "    ciphertext = encrypt(text, shift_amt, shift_alph)\n",
    "    print(\"Ciphertext:\", ciphertext)\n",
    "elif action == 1:\n",
    "    plaintext = decrypt(text, shift_amt, shift_alph)\n",
    "    print(\"Plaintext:\", plaintext)\n",
    "else:\n",
    "    raise ValueError(\"Invalid mode\")"
   ]
  },
  {
   "cell_type": "code",
   "execution_count": null,
   "id": "4fe53998",
   "metadata": {},
   "outputs": [],
   "source": []
  },
  {
   "cell_type": "code",
   "execution_count": null,
   "id": "7e2efde2",
   "metadata": {},
   "outputs": [],
   "source": []
  }
 ],
 "metadata": {
  "kernelspec": {
   "display_name": "Python 3 (ipykernel)",
   "language": "python",
   "name": "python3"
  },
  "language_info": {
   "codemirror_mode": {
    "name": "ipython",
    "version": 3
   },
   "file_extension": ".py",
   "mimetype": "text/x-python",
   "name": "python",
   "nbconvert_exporter": "python",
   "pygments_lexer": "ipython3",
   "version": "3.9.13"
  }
 },
 "nbformat": 4,
 "nbformat_minor": 5
}
